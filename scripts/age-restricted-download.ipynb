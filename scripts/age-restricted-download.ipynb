{
 "cells": [
  {
   "cell_type": "code",
   "execution_count": null,
   "metadata": {},
   "outputs": [],
   "source": [
    "import os\n",
    "import pandas as pd"
   ]
  },
  {
   "cell_type": "code",
   "execution_count": null,
   "metadata": {},
   "outputs": [],
   "source": [
    "loaded_h5 = pd.read_hdf(r'C:\\Users\\lukas\\Desktop\\youtube-autobackup\\data\\manifest.h5', key=\"df\")\n",
    "loaded_h5 = loaded_h5.reset_index(drop=True)\n",
    "UNACCESSIBLE_STATUS = [\" is a private video\", \" is unavailable\"]\n",
    "CANT_BACKUP_STATUS = [\"Remote end closed connection without response\", \"IncompleteRead\", 'streamingData', \" is age restricted, and can't be accessed without logging in.\", \" The read operation timed out\", \" HTTP Error 403: Forbidden\", \" The read operation timed out\"] #, \" is age restricted, and can't be accessed without logging in.\", \n",
    "DOWNLOADED_STATUS = [\"Downloaded\"]\n",
    "not_valid = loaded_h5[loaded_h5[\"backup_status\"].str.contains('|'.join(UNACCESSIBLE_STATUS + CANT_BACKUP_STATUS), na=False)]\n",
    "deleted = loaded_h5[loaded_h5[\"backup_status\"].str.contains('|'.join(UNACCESSIBLE_STATUS), na=False)]\n",
    "deleted = deleted[\n",
    "    deleted[\"snippet.videoOwnerChannelId\"] != os.getenv(\"USER_ID\")\n",
    "]\n",
    "deleted"
   ]
  },
  {
   "cell_type": "code",
   "execution_count": null,
   "metadata": {},
   "outputs": [],
   "source": [
    "'''\n",
    "========================================\n",
    "    Testing for all clients types\n",
    "========================================\n",
    "'''\n",
    "import glob\n",
    "from pytube import YouTube\n",
    "from pytube.innertube import _default_clients\n",
    "\n",
    "# errors: RemoteDisconnected, URLError, TimeOutError\n",
    "video_id = \"zAAVbFToD10\" \n",
    "\n",
    "for client in [\"ANDROID_EMBED\"] + list(_default_clients.keys()):\n",
    "    print(f\"trying {client}\")\n",
    "    _default_clients[\"ANDROID_MUSIC\"] = _default_clients[client] #[\"WEB\"][\"ANDROID_CREATOR\"]\n",
    "    yt = YouTube(f\"http://youtube.com/watch?v={video_id}\")\n",
    "    try:\n",
    "        yt.streams.filter(progressive=True, file_extension=\"mp4\").order_by(\n",
    "            \"resolution\"\n",
    "        ).asc().first().download(filename_prefix=f\"{video_id}_\", output_path=\"\", max_retries=10, timeout=10)\n",
    "    except Exception as e:\n",
    "        print(f\"Error: {e}\")\n",
    "    finally:\n",
    "        file = glob.glob(os.path.join(r'C:\\Users\\lukas\\Desktop\\youtube-autobackup\\scripts', f\"{video_id}_*\"))[0]\n",
    "        print('Filesize: ', os.path.getsize(file))"
   ]
  },
  {
   "cell_type": "code",
   "execution_count": null,
   "metadata": {},
   "outputs": [],
   "source": [
    "loaded_h5 = pd.read_hdf(r'C:\\Users\\lukas\\Desktop\\youtube-autobackup\\data\\manifest.h5', key=\"df\")\n",
    "loaded_h5 = loaded_h5[loaded_h5['retrieve_status'] != '']\n",
    "loaded_h5"
   ]
  },
  {
   "cell_type": "code",
   "execution_count": null,
   "metadata": {},
   "outputs": [],
   "source": []
  },
  {
   "cell_type": "code",
   "execution_count": null,
   "metadata": {},
   "outputs": [],
   "source": []
  }
 ],
 "metadata": {
  "kernelspec": {
   "display_name": ".venv",
   "language": "python",
   "name": "python3"
  },
  "language_info": {
   "codemirror_mode": {
    "name": "ipython",
    "version": 3
   },
   "file_extension": ".py",
   "mimetype": "text/x-python",
   "name": "python",
   "nbconvert_exporter": "python",
   "pygments_lexer": "ipython3",
   "version": "3.11.4"
  }
 },
 "nbformat": 4,
 "nbformat_minor": 2
}
